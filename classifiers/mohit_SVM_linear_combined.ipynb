{
 "cells": [
  {
   "cell_type": "code",
   "execution_count": 171,
   "metadata": {},
   "outputs": [],
   "source": [
    "import pandas as pd\n",
    "import cv2\n",
    "import seaborn as sb\n",
    "import matplotlib.pyplot as plt\n",
    "from sklearn import preprocessing, svm\n",
    "from sklearn.preprocessing import StandardScaler\n",
    "from sklearn.metrics import roc_auc_score, classification_report\n",
    "\n",
    "%matplotlib inline\n",
    "import statsmodels.api as sm\n",
    "from sklearn.preprocessing import MinMaxScaler\n",
    "from sklearn.metrics import confusion_matrix\n",
    "\n",
    "import ibmseti\n",
    "import numpy as np\n",
    "import matplotlib.pyplot as plt\n",
    "import os\n",
    "import scipy\n",
    "import zipfile\n",
    "\n",
    "from obspy.core import read\n",
    "from obspy.signal.trigger import classic_sta_lta\n",
    "from astropy.convolution import convolve, Box1DKernel\n",
    "from scipy import ndimage"
   ]
  },
  {
   "cell_type": "code",
   "execution_count": 134,
   "metadata": {},
   "outputs": [],
   "source": [
    "# Find the data in the zip file\n",
    "mydatafolder = '../data'\n",
    "zz = zipfile.ZipFile(os.path.join(mydatafolder, 'basic4.zip'))\n",
    "basic4list = zz.namelist() #list of all the image files \n",
    "firstfile = basic4list[1400] #for testing \n",
    "\n",
    "label_csv = pd.read_csv('../data/public_list_basic_v2_26may_2017.csv') #labels for basic4 data \n",
    "label_csv.index = label_csv.UUID #make ID the index"
   ]
  },
  {
   "cell_type": "code",
   "execution_count": 126,
   "metadata": {
    "collapsed": true
   },
   "outputs": [],
   "source": [
    "# processors \n",
    "def spectrogram_raw(in_file):\n",
    "    '''\n",
    "    raw np array of spectrogram \n",
    "    '''\n",
    "    \n",
    "    # Read data into ibmseti object\n",
    "    aca = ibmseti.compamp.SimCompamp(zz.open(in_file).read())\n",
    "\n",
    "    # Get the raw complex data\n",
    "    complex_data = aca.complex_data()\n",
    "    complex_data = complex_data.reshape(32, 6144)\n",
    "    cpfft = np.fft.fftshift( np.fft.fft(complex_data), 1)\n",
    "    spectrogram = np.abs(cpfft)**2\n",
    "    \n",
    "    return spectrogram\n",
    "\n",
    "\n",
    "def seismogram(in_file):    \n",
    "    '''\n",
    "    Sanjoy's Seismogram image processing function \n",
    "    Create binary image of highly denoised spectrogram \n",
    "    '''\n",
    "    \n",
    "    # Read data into ibmseti object\n",
    "    aca = ibmseti.compamp.SimCompamp(zz.open(in_file).read())\n",
    "\n",
    "    # Get the raw complex data\n",
    "    complex_data = aca.complex_data()\n",
    "    complex_data = complex_data.reshape(32, 6144)\n",
    "    cpfft = np.fft.fftshift( np.fft.fft(complex_data), 1)\n",
    "    spectrogram = np.abs(cpfft)**2\n",
    "\n",
    "    # Create a new empty spectrogram to contain the smooth spedtrogram values\n",
    "    smoothedspectro=np.zeros(np.shape(spectrogram))\n",
    "\n",
    "    # Apply seismogram filtering to data\n",
    "    for i in range(np.shape(spectrogram)[0]):\n",
    "        background = convolve(spectrogram[i], Box1DKernel(100))\n",
    "        smoothedspectro[i]=spectrogram[i] - background\n",
    "        df = 20\n",
    "        cft = classic_sta_lta(smoothedspectro[i], int(5 * df), int(10 * df))\n",
    "        indices_ut = np.where(cft>1.7)\n",
    "        indices_ut = list(indices_ut[0])\n",
    "        indices_lt = np.where(cft<0.2)\n",
    "        indices_lt  = list(indices_lt[0])\n",
    "        indices = indices_ut + indices_lt\n",
    "        indices_zero = range(0,6144)\n",
    "        indices_zero = list(set(indices_zero) - set(indices))\n",
    "        smoothedspectro[i][indices_zero] = 0\n",
    "        smoothedspectro[i][indices_ut] = 1\n",
    "        smoothedspectro[i][indices_lt] = 1\n",
    "        smoothedspectro[i][:500] = 0\n",
    "\n",
    "    # Binarize the image\n",
    "    ndimage.binary_erosion(np.asarray(smoothedspectro), structure=np.ones((100,100))).astype(np.int)\n",
    "    \n",
    "    return smoothedspectro\n",
    "\n",
    "# #Plot siesmo spectrogram\n",
    "# fig, ax = plt.subplots(figsize=(8, 4))\n",
    "# cmap = plt.cm.get_cmap(\"binary\")\n",
    "# ax.imshow(spectrogram, cmap=cmap,aspect = 0.5*float(spectrogram.shape[1]) / spectrogram.shape[0])\n",
    "# ax.set_axis_off()"
   ]
  },
  {
   "cell_type": "code",
   "execution_count": 127,
   "metadata": {
    "collapsed": true
   },
   "outputs": [],
   "source": [
    "#linear (r^2) classifier for narrowband/DRD \n",
    "def narrow_linear_fit(image):\n",
    "    \n",
    "    '''\n",
    "    arugments:  the image file name \n",
    "    \n",
    "    this function applies image processing for smoothing/closing\n",
    "    it then skeletonizes the image to a line width of one\n",
    "    these pixel locations are taken and fit to a linear model \n",
    "    r^2 is taken to distinguish between narrowband (linear) and narrowbandrd (curved)\n",
    "    \n",
    "    returns: linear model object, dependent values for line, independent values for line, spectrogram \n",
    "    '''\n",
    "    \n",
    "    # IMAGE PROCESSING #\n",
    "    spectrogram = seismogram(image)\n",
    "    spectrogram = np.uint8(spectrogram) #prep for openCV \n",
    "    kernel = np.ones((11,11),np.uint8) #kernel size for morpho closing \n",
    "    spectrogram = cv2.morphologyEx(spectrogram, cv2.MORPH_CLOSE, kernel) #close holes \n",
    "    spectrogram = cv2.GaussianBlur(spectrogram, (11,11), 0) #close gaps\n",
    "    spectrogram[spectrogram > 0] = 255 #make binary\n",
    "    \n",
    "    #skeletonize the band, put line loc into curve list \n",
    "    def skeletonize(row):\n",
    "        return np.median(np.array(np.nonzero(row > 0))) \n",
    "    curve = []\n",
    "    curve.append(np.apply_along_axis(skeletonize, 1, spectrogram))\n",
    "    curve =  np.array(curve).flatten() #convert to numpy for speed \n",
    "    curve = curve[~np.isnan(curve)] # get rid of NAN values (where image is blank)\n",
    "    curve_std = np.std(curve) #standard deviation of curve values\n",
    "    \n",
    "    #scale data between 0-~32 (height of raw image, minus the dropped NANs)\n",
    "    scaler = MinMaxScaler()\n",
    "    curve = scaler.fit_transform(curve.reshape(-1, 1))\n",
    "    X = np.linspace((curve.shape[0]-1), 0, curve.shape[0]).flatten()\n",
    "    curve = curve*X.shape[0] \n",
    "    \n",
    "    #constrain  edges (seemed to cause some issues)\n",
    "    curve = curve[2:-2] \n",
    "    X = X[2:-2]\n",
    "    \n",
    "    #fit a linear regression to the skeletonized line\n",
    "    X = sm.add_constant(X)\n",
    "    linear_fit = sm.OLS(curve, X).fit() \n",
    "    slope, intercept = linear_fit.params\n",
    "\n",
    "    return linear_fit, curve, X, slope, intercept, curve_std, spectrogram "
   ]
  },
  {
   "cell_type": "code",
   "execution_count": 81,
   "metadata": {
    "collapsed": true
   },
   "outputs": [],
   "source": [
    "#split data into features (images) and classes (labels)\n",
    "full_df = pd.read_csv('flattend_square.csv')\n",
    "labels_true = full_df.iloc[:, 0]\n",
    "names = full_df.iloc[:, 1]\n",
    "images = full_df.iloc[:, 2:]\n",
    "images[images>0]=1  #convert back to binary (compression changed that)"
   ]
  },
  {
   "cell_type": "code",
   "execution_count": 162,
   "metadata": {},
   "outputs": [],
   "source": [
    "#machine learning! \n",
    "\n",
    "#get subsets of data to test around with \n",
    "labels = labels_true #make copy of originals \n",
    "\n",
    "#change labels for linreg classifier. We want narrowband and DRD to appear \n",
    "#as the same class, so that the 1st pass classifier has an easier time distinguishing \n",
    "def change_label(x):\n",
    "    if x=='narrowbanddrd':\n",
    "        return 'narrowband'\n",
    "    else:\n",
    "        return x\n",
    "labels= labels.apply(change_label)\n",
    "\n",
    "#train test split\n",
    "trainX = images[:3000]\n",
    "testX = images[3001:]\n",
    "trainY = labels[:3000]\n",
    "testY = labels[3001:]\n",
    "trainY_true = labels_true[:3000]\n",
    "testY_true = labels_true[3001:]"
   ]
  },
  {
   "cell_type": "code",
   "execution_count": 173,
   "metadata": {
    "scrolled": false
   },
   "outputs": [
    {
     "data": {
      "text/plain": [
       "SVC(C=10, cache_size=200, class_weight=None, coef0=0.0,\n",
       "  decision_function_shape=None, degree=3, gamma=0.01, kernel='rbf',\n",
       "  max_iter=-1, probability=False, random_state=None, shrinking=True,\n",
       "  tol=0.001, verbose=False)"
      ]
     },
     "execution_count": 173,
     "metadata": {},
     "output_type": "execute_result"
    }
   ],
   "source": [
    "#apply SVM (pretuned via grid search)\n",
    "clf = svm.SVC(C = 10, gamma=0.01)\n",
    "clf.fit(trainX, trainY)"
   ]
  },
  {
   "cell_type": "code",
   "execution_count": 174,
   "metadata": {},
   "outputs": [],
   "source": [
    "#apply predictions on test data \n",
    "#concat w/ true labels (untouched narrowbandDRD)\n",
    "\n",
    "SVM_pred = pd.DataFrame(clf.predict(testX), index=testY.index)\n",
    "frames = [testY_true, testY, SVM_pred]\n",
    "all_y = pd.concat(frames, axis=1)\n",
    "all_y.columns =['testY_true', 'testY_SVM', 'prediction']"
   ]
  },
  {
   "cell_type": "code",
   "execution_count": 175,
   "metadata": {},
   "outputs": [
    {
     "data": {
      "text/plain": [
       "0.938938938938939"
      ]
     },
     "execution_count": 175,
     "metadata": {},
     "output_type": "execute_result"
    }
   ],
   "source": [
    "#whats our accuracy of the first pass classifier?\n",
    "#when the narrowband and narrowbandDRD were separate, this was 68%\n",
    "#this is just to validate the accuracy of the 3 classes, where N and NDRD are combined \n",
    "total = all_y.shape[0]\n",
    "correct = 0\n",
    "for i in all_y.index: \n",
    "    if all_y.ix[i]['testY_SVM'] == all_y.ix[i]['prediction']:\n",
    "        correct+= 1\n",
    "correct/float(total)"
   ]
  },
  {
   "cell_type": "code",
   "execution_count": 177,
   "metadata": {
    "scrolled": true
   },
   "outputs": [],
   "source": [
    "#TO DO - CHANGE THIS TO A APPLY FUNCITION FOR SPEED  \n",
    "\n",
    "#apply linear regression/r^2 classifier \n",
    "#change the predictions \n",
    "\n",
    "r2_threshold = 0.996\n",
    "\n",
    "for i in all_y.index:\n",
    "    if all_y.ix[i]['prediction'] == 'narrowband': #if SVM returns narrowband, use linear classifier \n",
    "        ID = full_df.ix[i][1]+'.dat'\n",
    "        model, line, x, m, b, std, spectrogram  = narrow_linear_fit(ID) #apply linear function \n",
    "#         print model.rsquared_adj, std\n",
    "        if  model.rsquared_adj > r2_threshold: \n",
    "            prediction = 'narrowband'\n",
    "        else:\n",
    "            if std<5:     #add standard deviation conditional\n",
    "                prediction = 'narrowband'\n",
    "            else:\n",
    "                prediction = 'narrowbanddrd'\n",
    "        all_y.ix[i]['prediction'] = prediction"
   ]
  },
  {
   "cell_type": "code",
   "execution_count": 168,
   "metadata": {},
   "outputs": [
    {
     "data": {
      "text/plain": [
       "0.8958958958958959"
      ]
     },
     "execution_count": 168,
     "metadata": {},
     "output_type": "execute_result"
    }
   ],
   "source": [
    "#get the new accuracy score \n",
    "#were looking for an improvement on 68%\n",
    "\n",
    "total = all_y.shape[0]\n",
    "correct = 0\n",
    "for i in all_y.index: \n",
    "    if all_y.ix[i]['testY_true'] == all_y.ix[i]['prediction']:\n",
    "        correct+= 1\n",
    "correct/float(total)"
   ]
  },
  {
   "cell_type": "code",
   "execution_count": 176,
   "metadata": {},
   "outputs": [
    {
     "data": {
      "image/png": "[encoded data removed]",
      "text/plain": [
       "<matplotlib.figure.Figure at 0xfdcd278>"
      ]
     },
     "metadata": {},
     "output_type": "display_data"
    }
   ],
   "source": [
    "#lets look at a confusion matrix to see where our errors are \n",
    "\n",
    "labels = ['narrowband', 'narrowbanddrd', 'squiggle', 'noise']\n",
    "cm = confusion_matrix(all_y['testY_true'], all_y['prediction'], labels=labels) \n",
    "cm = pd.DataFrame(data=cm, columns=labels, index=labels)\n",
    "\n",
    "fig = plt.figure()\n",
    "sb.heatmap(cm, annot=True, fmt='g', cmap='Blues')\n",
    "\n",
    "plt.title('Confusion matrix of the classifier')\n",
    "plt.xlabel('Predicted')\n",
    "plt.ylabel('True')\n",
    "plt.show()"
   ]
  },
  {
   "cell_type": "code",
   "execution_count": null,
   "metadata": {
    "collapsed": true
   },
   "outputs": [],
   "source": []
  }
 ],
 "metadata": {
  "kernelspec": {
   "display_name": "Python 2",
   "language": "python",
   "name": "python2"
  },
  "language_info": {
   "codemirror_mode": {
    "name": "ipython",
    "version": 2
   },
   "file_extension": ".py",
   "mimetype": "text/x-python",
   "name": "python",
   "nbconvert_exporter": "python",
   "pygments_lexer": "ipython2",
   "version": "2.7.13"
  }
 },
 "nbformat": 4,
 "nbformat_minor": 2
}
