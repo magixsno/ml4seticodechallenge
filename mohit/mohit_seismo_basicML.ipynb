{
 "cells": [
  {
   "cell_type": "code",
   "execution_count": 1,
   "metadata": {},
   "outputs": [
    {
     "name": "stderr",
     "output_type": "stream",
     "text": [
      "C:\\Users\\mohit\\Anaconda2\\lib\\site-packages\\sklearn\\cross_validation.py:44: DeprecationWarning: This module was deprecated in version 0.18 in favor of the model_selection module into which all the refactored classes and functions are moved. Also note that the interface of the new CV iterators are different from that of this module. This module will be removed in 0.20.\n",
      "  \"This module will be removed in 0.20.\", DeprecationWarning)\n",
      "C:\\Users\\mohit\\Anaconda2\\lib\\site-packages\\sklearn\\grid_search.py:43: DeprecationWarning: This module was deprecated in version 0.18 in favor of the model_selection module into which all the refactored classes and functions are moved. This module will be removed in 0.20.\n",
      "  DeprecationWarning)\n"
     ]
    }
   ],
   "source": [
    "from __future__ import division\n",
    "\n",
    "import astropy\n",
    "import cStringIO\n",
    "import glob\n",
    "import ibmseti\n",
    "import io\n",
    "import json\n",
    "import numpy as np\n",
    "import matplotlib.pyplot as plt\n",
    "import obspy\n",
    "import os\n",
    "import requests\n",
    "import scipy\n",
    "import zipfile\n",
    "\n",
    "from obspy.core import read\n",
    "from obspy.signal.trigger import classic_sta_lta\n",
    "from obspy.signal.trigger import plot_trigger \n",
    "from astropy.convolution import convolve, Box1DKernel\n",
    "from scipy import ndimage\n",
    "\n",
    "import pandas as pd\n",
    "import cv2\n",
    "import seaborn as sb\n",
    "from sklearn.model_selection import train_test_split\n",
    "from sklearn import preprocessing, cross_validation, svm, neighbors\n",
    "from sklearn.linear_model import LogisticRegression\n",
    "from sklearn.grid_search import RandomizedSearchCV, GridSearchCV\n",
    "from sklearn.decomposition import RandomizedPCA\n",
    "from sklearn.preprocessing import StandardScaler\n",
    "from sklearn.metrics import roc_auc_score, classification_report\n",
    "\n",
    "'''\n",
    "IF YOU ARE RUNNING A NEWER VERSION OF MATPLOTLIB THIS CODE WILL NOT RUN:\n",
    "pip install 'matplotlib==1.4.3'\n",
    "Then run this code with:\n",
    "python processors/sanjoy_seismogram.py\n",
    "''';"
   ]
  },
  {
   "cell_type": "code",
   "execution_count": 3,
   "metadata": {
    "collapsed": true
   },
   "outputs": [],
   "source": [
    "# Find the data in the zip file\n",
    "mydatafolder = '../data'\n",
    "zz = zipfile.ZipFile(os.path.join(mydatafolder, 'basic4.zip'))\n",
    "basic4list = zz.namelist() #list of all the image files \n",
    "firstfile = basic4list[1400] #for testing \n",
    "\n",
    "label_csv = pd.read_csv('../data/public_list_basic_v2_26may_2017.csv') #labels for basic4 data \n",
    "label_csv.index = label_csv.UUID #make ID the index"
   ]
  },
  {
   "cell_type": "markdown",
   "metadata": {},
   "source": [
    "Here I just converted the SETI and Sanjoy's image processing algortims into functions so that they are easier to use and reference later in the code. "
   ]
  },
  {
   "cell_type": "code",
   "execution_count": 11,
   "metadata": {
    "collapsed": true
   },
   "outputs": [],
   "source": [
    "def spectrogram_raw(in_file):\n",
    "    '''\n",
    "    raw np array of spectrogram \n",
    "    '''\n",
    "    \n",
    "    # Read data into ibmseti object\n",
    "    aca = ibmseti.compamp.SimCompamp(zz.open(in_file).read())\n",
    "\n",
    "    # Get the raw complex data\n",
    "    complex_data = aca.complex_data()\n",
    "    complex_data = complex_data.reshape(32, 6144)\n",
    "    cpfft = np.fft.fftshift( np.fft.fft(complex_data), 1)\n",
    "    spectrogram = np.abs(cpfft)**2\n",
    "    \n",
    "    return spectrogram\n",
    "\n",
    "\n",
    "def seismogram(in_file):    \n",
    "    '''\n",
    "    Sanjoy's Seismogram image processing function \n",
    "    Create binary image of highly denoised spectrogram \n",
    "    '''\n",
    "    \n",
    "    # Read data into ibmseti object\n",
    "    aca = ibmseti.compamp.SimCompamp(zz.open(in_file).read())\n",
    "\n",
    "    # Get the raw complex data\n",
    "    complex_data = aca.complex_data()\n",
    "    complex_data = complex_data.reshape(32, 6144)\n",
    "    cpfft = np.fft.fftshift( np.fft.fft(complex_data), 1)\n",
    "    spectrogram = np.abs(cpfft)**2\n",
    "\n",
    "    # Create a new empty spectrogram to contain the smooth spedtrogram values\n",
    "    smoothedspectro=np.zeros(np.shape(spectrogram))\n",
    "\n",
    "    # Apply seismogram filtering to data\n",
    "    for i in range(np.shape(spectrogram)[0]):\n",
    "        background = convolve(spectrogram[i], Box1DKernel(100))\n",
    "        smoothedspectro[i]=spectrogram[i] - background\n",
    "        df = 20\n",
    "        cft = classic_sta_lta(smoothedspectro[i], int(5 * df), int(10 * df))\n",
    "        indices_ut = np.where(cft>1.7)\n",
    "        indices_ut = list(indices_ut[0])\n",
    "        indices_lt = np.where(cft<0.2)\n",
    "        indices_lt  = list(indices_lt[0])\n",
    "        indices = indices_ut + indices_lt\n",
    "        indices_zero = range(0,6144)\n",
    "        indices_zero = list(set(indices_zero) - set(indices)) #NOTE I (mohit) got rid of the for loop here for speed \n",
    "        smoothedspectro[i][indices_zero] = 0\n",
    "        smoothedspectro[i][indices_ut] = 1\n",
    "        smoothedspectro[i][indices_lt] = 1\n",
    "        smoothedspectro[i][:500] = 0\n",
    "\n",
    "    # Binarize the image\n",
    "    ndimage.binary_erosion(np.asarray(smoothedspectro), structure=np.ones((100,100))).astype(np.int)\n",
    "    \n",
    "    return smoothedspectro\n",
    "\n",
    "#     #Plot siesmo spectrogram\n",
    "#     fig, ax = plt.subplots(figsize=(8, 4))\n",
    "#     cmap = plt.cm.get_cmap(\"binary\")\n",
    "#     ax.imshow(spectrogram, cmap=cmap,aspect = 0.5*float(spectrogram.shape[1]) / spectrogram.shape[0])\n",
    "#     ax.set_axis_off()\n",
    "\n",
    "#     # Plot raw spectrogram\n",
    "#     spectrogram = aca.get_spectrogram()\n",
    "#     fig, ax = plt.subplots(figsize=(8, 4))\n",
    "#     ax.imshow(np.log(spectrogram), aspect = 0.5*float(spectrogram.shape[1]) / spectrogram.shape[0])\n",
    "\n",
    "#     plt.show()"
   ]
  },
  {
   "cell_type": "markdown",
   "metadata": {},
   "source": [
    "# Data Preprocessing\n",
    "\n",
    "My goal with this analyis is to use MNIST classifiers as a prototype for spectrograms. I want to get the data in the same format as the MNIST dataset: (one csv/dataframe) so I can apply similar machine learning techniques. I'll need to flatten the numpy arrays of the spectrograms into one dimension, and associate the correct label with the image. I'm also going to compress the image with openCV (computer vision library) so that the models train faster. "
   ]
  },
  {
   "cell_type": "code",
   "execution_count": 1,
   "metadata": {
    "scrolled": true
   },
   "outputs": [
    {
     "name": "stdout",
     "output_type": "stream",
     "text": [
      "Toggle ON/OFF. Process at your own (computational) cost\n"
     ]
    }
   ],
   "source": [
    "process = False #toggle to convert. Takes a LONG time so only do this if necessary. \n",
    "\n",
    "if process == True: \n",
    "    label_list =[] #classes \n",
    "    IDs = [] #this the random string of digits and letters\n",
    "    all_images = np.empty((0,900), int) #array of our flattend images (12288)\n",
    "    size = len(basic4list)\n",
    "\n",
    "    for i, image in enumerate(basic4list): \n",
    "        #aca = ibmseti.compamp.SimCompamp(zz.open(image).read())\n",
    "\n",
    "        #create flattend, compressed image of seismo/spectrogram for csv \n",
    "        s = seismogram(image) #NOTE: original shape is 32 x 6144\n",
    "        l = int(s.shape[0]/4)\n",
    "        w = int(s.shape[1]/4)\n",
    "        \n",
    "        s = cv2.resize(s, (30, 30)) #NOTE: new shape is 8 x 1536\n",
    "        s = s.flatten()\n",
    "        all_images = np.vstack((all_images,s)) #append image on vertical axis \n",
    "\n",
    "        ID = basic4list[i].split('.dat')[0]\n",
    "        row = label_csv.loc[[ID]]\n",
    "        label = row.SIGNAL_CLASSIFICATION.values[0] #get value \n",
    "        label_list.append(label)\n",
    "        IDs.append(ID)\n",
    "        \n",
    "        \n",
    "        progress = float(i)/float(size)*100\n",
    "\n",
    "    data = np.array([label_list, IDs]).T #labels \n",
    "    data = np.hstack((data,all_images)) #add flattened image \n",
    "    labels_sorted = pd.DataFrame(data=data)\n",
    "    labels_sorted.to_csv('flattend_square.csv', index=False)\\\n",
    "    \n",
    "else: \n",
    "    print \"Toggle ON/OFF. Process at your own (computational) cost\""
   ]
  },
  {
   "cell_type": "code",
   "execution_count": null,
   "metadata": {
    "collapsed": true
   },
   "outputs": [],
   "source": [
    "labels_sorted = pd.DataFrame(data=data)\n",
    "labels_sorted.to_csv('flattend_square.csv', index=False)"
   ]
  },
  {
   "cell_type": "code",
   "execution_count": 5,
   "metadata": {
    "collapsed": true
   },
   "outputs": [],
   "source": [
    "#split data into features (images) and classes (labels)\n",
    "full_df = pd.read_csv('flattend_square.csv')\n",
    "labels = full_df.iloc[:, 0]\n",
    "names = full_df.iloc[:, 1]\n",
    "images = full_df.iloc[:, 2:]\n",
    "images[images>0]=1  #convert back to binary (compression changed that)"
   ]
  },
  {
   "cell_type": "code",
   "execution_count": 6,
   "metadata": {
    "scrolled": true
   },
   "outputs": [
    {
     "data": {
      "image/png": "[encoded data removed]",
      "text/plain": [
       "<matplotlib.figure.Figure at 0x62259b0>"
      ]
     },
     "metadata": {},
     "output_type": "display_data"
    },
    {
     "data": {
      "image/png": "[encoded data removed]",
      "text/plain": [
       "<matplotlib.figure.Figure at 0x17c10ba8>"
      ]
     },
     "metadata": {},
     "output_type": "display_data"
    },
    {
     "data": {
      "image/png": "[encoded data removed]",
      "text/plain": [
       "<matplotlib.figure.Figure at 0x27c841d0>"
      ]
     },
     "metadata": {},
     "output_type": "display_data"
    },
    {
     "data": {
      "image/png": "[encoded data removed]",
      "text/plain": [
       "<matplotlib.figure.Figure at 0x134846a0>"
      ]
     },
     "metadata": {},
     "output_type": "display_data"
    },
    {
     "data": {
      "image/png": "[encoded data removed]",
      "text/plain": [
       "<matplotlib.figure.Figure at 0x146ad470>"
      ]
     },
     "metadata": {},
     "output_type": "display_data"
    },
    {
     "data": {
      "image/png": "[encoded data removed]",
      "text/plain": [
       "<matplotlib.figure.Figure at 0x17320198>"
      ]
     },
     "metadata": {},
     "output_type": "display_data"
    },
    {
     "data": {
      "image/png": "[encoded data removed]",
      "text/plain": [
       "<matplotlib.figure.Figure at 0x18c2a358>"
      ]
     },
     "metadata": {},
     "output_type": "display_data"
    },
    {
     "data": {
      "image/png": "[encoded data removed]",
      "text/plain": [
       "<matplotlib.figure.Figure at 0x1a70a470>"
      ]
     },
     "metadata": {},
     "output_type": "display_data"
    },
    {
     "data": {
      "image/png": "[encoded data removed]",
      "text/plain": [
       "<matplotlib.figure.Figure at 0x16a75c50>"
      ]
     },
     "metadata": {},
     "output_type": "display_data"
    }
   ],
   "source": [
    "#plot to ensure the data didn't get comprimised. \n",
    "for i in range(1,10):\n",
    "    fig, ax = plt.subplots(figsize=(4, 2))\n",
    "    cmap = plt.cm.get_cmap(\"binary\")\n",
    "    spectrogram = (images.iloc[i].values).reshape(400, 400) #8, 1536\n",
    "    ax.imshow(spectrogram, cmap=cmap)#,aspect = 0.5*float(spectrogram.shape[1]) / spectrogram.shape[0])\n",
    "    ax.set_axis_off()\n",
    "    \n",
    "#     plt.subplot(1,2,1)\n",
    "#     array = (images.iloc[i].values).reshape(8, 1536)\n",
    "#     plt.imshow(array, cmap = plt.cm.gray_r, interpolation='nearest')\n",
    "\n",
    "#     plt.subplot(1,2,2)\n",
    "#     plt.hist(images.iloc[i])\n",
    "    plt.show() #UNCOMMENT TO SHOW "
   ]
  },
  {
   "cell_type": "markdown",
   "metadata": {},
   "source": [
    "# MNIST Comparison \n",
    "\n",
    "My initial idea was to upcycle some of the same machine leanrning principles/code I used on the [MNIST handwritten digit dataset](https://rodrigob.github.io/are_we_there_yet/build/images/mnist.png?1363085077). The dataset consists of black lines and curves on a white canvas, just like ours. I applied some basic out-of-the-box machine learning algortihms on the dataset, and then tuned the hyperparameters (tuning knobs of an ML model) using a brute force technique called Grid Search. The Grid Search technique gets its name because we essentially just put all the types of models with the various unique parameters into a grid, and search for the one that performs the best by trial and error. \n",
    "\n",
    "To those unfamilar with machine learning, the types of classifiers I am using below (Logistic Regression, K-Nearest-Neighbors, Support Vector Machine) are actually not the best for images. I chose them because they are a bit faster to train compared to a neural net, and will still give us reasonable results. With this, we can get an idea of how the computer models the patterns in the data. As I briefly mentioned in the Slack channel on DNN vs. ConvNet, these models would fall under a similar branch as the Deep Neural Network. The models treat the data as location variant, meaning that it doesn't care how the data is arranged spatially. A ConvNet does the opposite. However, since the data is relatively flat (32 columns by 6144 rows), the location variance may play a smaller role than say, an image taken from your camera. \n",
    "\n",
    "Though these models are lower performance for image data, their quick implementation can give us power in numbers. Overall, I'd like to train these models and compare how they classify each of the 4 types of labels. Specifically, I want to see which types give the most incorrect predictions, and what do they predict when they are wrong (do certain types usually get mixed up for eachother?). If one model is better than an another for a specific type of class or mistake, we can build a small decision tree that might classify better as whole than any one alone. We can also use the knowledge of our errors to fine tune the image pre-processing. Plus, I think this would technically be an AI, and that would be pretty rad. \n",
    "\n",
    "Alternatively, in machine learning there is a concept called Ensemble Learning. The idea here is that we create multiple models, weak or strong, and each gets a vote for its prediction. The majority vote wins the prediction. This teases out noise, and as long as each constituent model has better than a 50% accuracy, it contribute positively, even if weakly, to the overall model accuracy. This is a bit more brute force, but can be a good solution if we implement it strategically within our constraints. \n",
    "\n",
    "Lets build the models. "
   ]
  },
  {
   "cell_type": "code",
   "execution_count": 70,
   "metadata": {
    "collapsed": true
   },
   "outputs": [],
   "source": [
    "#get subsets of data to test around with \n",
    "labels_subset = labels[:4000]\n",
    "images_subset = images[:4000]\n",
    "\n",
    "#split data into chunks (20% each) for a 5-fold cross validation \n",
    "(trainX, testX, trainY, testY) =  train_test_split(images_subset, labels_subset)"
   ]
  },
  {
   "cell_type": "code",
   "execution_count": 108,
   "metadata": {},
   "outputs": [
    {
     "name": "stdout",
     "output_type": "stream",
     "text": [
      "Percision: of all the numbers predicted, how many did we predict correctly?\n",
      "Recall: of all the times we could have predicted \"X\" , how many times did we predict correctly?\n",
      "\n",
      "LR grid search best parameters {'C': 0.01}\n",
      "accuracy 0.59\n",
      "               precision    recall  f1-score   support\n",
      "\n",
      "   narrowband       0.42      0.55      0.48       237\n",
      "narrowbanddrd       0.43      0.42      0.43       272\n",
      "        noise       0.87      1.00      0.93       265\n",
      "     squiggle       0.69      0.36      0.47       226\n",
      "\n",
      "  avg / total       0.60      0.59      0.58      1000\n",
      "\n",
      "KNN grid search best parameters {'n_neighbors': 1, 'weights': 'uniform', 'algorithm': 'ball_tree'}\n",
      "accuracy 0.58\n",
      "               precision    recall  f1-score   support\n",
      "\n",
      "   narrowband       0.47      0.59      0.53       237\n",
      "narrowbanddrd       0.52      0.49      0.50       272\n",
      "        noise       0.66      1.00      0.80       265\n",
      "     squiggle       0.98      0.19      0.32       226\n",
      "\n",
      "  avg / total       0.65      0.58      0.55      1000\n",
      "\n",
      "SVM grid search best parameters {'C': 100, 'gamma': 0.01}\n",
      "accuracy 0.74\n",
      "               precision    recall  f1-score   support\n",
      "\n",
      "   narrowband       0.50      0.55      0.52       237\n",
      "narrowbanddrd       0.54      0.50      0.52       272\n",
      "        noise       0.99      1.00      1.00       265\n",
      "     squiggle       0.96      0.95      0.95       226\n",
      "\n",
      "  avg / total       0.75      0.74      0.74      1000\n",
      "\n"
     ]
    }
   ],
   "source": [
    "## build the models, reports. ##\n",
    "\n",
    "print 'Percision: of all the numbers predicted, how many did we predict correctly?'\n",
    "print 'Recall: of all the times we could have predicted \"X\" , how many times did we predict correctly?\\n'\n",
    "\n",
    "\n",
    "#=====GRID SEARCH LR=====\n",
    "param_grid_LR = {'C': [0.001, 0.01, 0.1, 1, 10, 100, 1000]}\n",
    "grid_LR = GridSearchCV(LogisticRegression(), param_grid_LR)\n",
    "grid_LR.fit(trainX, trainY)\n",
    "\n",
    "print 'LR grid search best parameters', grid_LR.best_params_\n",
    "print 'accuracy %.2f' % grid_LR.best_estimator_.score(testX, testY)\n",
    "predsLR = grid_LR.best_estimator_.predict(testX)\n",
    "print classification_report(testY, predsLR)\n",
    "    \n",
    "#=====GRID SEARCH KNN=====\n",
    "param_grid_KNN = {'n_neighbors': np.arange(1, 10, 2),\n",
    "              'weights': ['uniform', 'distance'],\n",
    "              'algorithm': ['ball_tree', 'brute']}\n",
    "grid_KNN = GridSearchCV(neighbors.KNeighborsClassifier(), param_grid_KNN)\n",
    "grid_KNN.fit(trainX, trainY)\n",
    "\n",
    "print 'KNN grid search best parameters', grid_KNN.best_params_\n",
    "print 'accuracy %.2f' % grid_KNN.best_estimator_.score(testX, testY)\n",
    "predsKNN = grid_KNN.best_estimator_.predict(testX)\n",
    "print classification_report(testY, predsKNN)\n",
    "\n",
    "    \n",
    "#=====GRID SEARCH SVM=====\n",
    "param_grid_SVM = {'C': [0.001, 0.01, 0.1, 1, 10, 100, 1000],\n",
    "              'gamma': [0.01, 0.001]}\n",
    "grid_SVM = GridSearchCV(svm.SVC(), param_grid_SVM)\n",
    "grid_SVM.fit(trainX, trainY)\n",
    "\n",
    "print 'SVM grid search best parameters', grid_SVM.best_params_\n",
    "print 'accuracy %.2f' % grid_SVM.best_estimator_.score(testX, testY)\n",
    "predsSVM = grid_SVM.best_estimator_.predict(testX)\n",
    "print classification_report(testY, predsSVM)\n"
   ]
  },
  {
   "cell_type": "code",
   "execution_count": 110,
   "metadata": {
    "scrolled": false
   },
   "outputs": [
    {
     "name": "stdout",
     "output_type": "stream",
     "text": [
      "Logistic Regression Error Report\n",
      "overall accuracy 0.59\n",
      "              correct  wrong\n",
      "narrowband        131    106\n",
      "narrowbandRD      115    157\n",
      "noise             265      0\n",
      "squiggle           81    145\n"
     ]
    },
    {
     "data": {
      "image/png": "[encoded data removed]",
      "text/plain": [
       "<matplotlib.figure.Figure at 0x21c0f9e8>"
      ]
     },
     "metadata": {},
     "output_type": "display_data"
    },
    {
     "name": "stdout",
     "output_type": "stream",
     "text": [
      "K Nearest Neighbors Error Report\n",
      "overall accuracy 0.58\n",
      "              correct  wrong\n",
      "narrowband        141     96\n",
      "narrowbandRD      133    139\n",
      "noise             265      0\n",
      "squiggle           44    182\n"
     ]
    },
    {
     "data": {
      "image/png": "[encoded data removed]",
      "text/plain": [
       "<matplotlib.figure.Figure at 0x2df0dcf8>"
      ]
     },
     "metadata": {},
     "output_type": "display_data"
    },
    {
     "name": "stdout",
     "output_type": "stream",
     "text": [
      "Support Vector Machine Error Report\n",
      "overall accuracy 0.74\n",
      "              correct  wrong\n",
      "narrowband        130    107\n",
      "narrowbandRD      136    136\n",
      "noise             265      0\n",
      "squiggle          214     12\n"
     ]
    },
    {
     "data": {
      "image/png": "[encoded data removed]",
      "text/plain": [
       "<matplotlib.figure.Figure at 0x2ccf7208>"
      ]
     },
     "metadata": {},
     "output_type": "display_data"
    }
   ],
   "source": [
    "#the best performing models from our grid search  \n",
    "model_LR = grid_LR.best_estimator_\n",
    "model_KNN = grid_KNN.best_estimator_\n",
    "model_SVM = grid_SVM.best_estimator_\n",
    "names = ['Logistic Regression', 'K Nearest Neighbors', 'Support Vector Machine']\n",
    "\n",
    "#iterate through the tuned models and build error's report \n",
    "for j, model in enumerate([model_LR, model_KNN, model_SVM]): \n",
    "    print names[j], 'Error Report'\n",
    "    print 'overall accuracy %.2f' % model.score(testX, testY)\n",
    "    \n",
    "    #initialize all the dataframes and arrays \n",
    "    y_hat = model.predict(testX) # create predictions on unseen testdata \n",
    "    y_hat_pd = pd.DataFrame(data=y_hat)\n",
    "    testY_pd = pd.DataFrame(data=testY)\n",
    "\n",
    "    correct_names = [] #all of our correction predictions \n",
    "    wrong_labels = [] #of all the images we misclassfied, what were their correct labels?\n",
    "    wrong_predictions = [] #of all the images we misclassfied, what did we classify them as?\n",
    "\n",
    "    #append the predictions into lists by correct/wrong \n",
    "    for i in range(len(testX)):\n",
    "        prediction = y_hat_pd.iloc[i].values[0] #get predicted label\n",
    "        true = testY_pd.iloc[i].values[0] #get the true class label \n",
    "        if prediction==true: \n",
    "            correct_names.append(prediction)\n",
    "        else:\n",
    "            wrong_predictions.append(prediction)\n",
    "            wrong_labels.append(true)\n",
    "    wrong_data = np.vstack((wrong_predictions, wrong_labels)) #concat the arrays \n",
    "\n",
    "    #tally em' up! \n",
    "    correct_nb = correct_names.count('narrowband')\n",
    "    correct_nbrd = correct_names.count('narrowbanddrd')\n",
    "    correct_noise = correct_names.count('noise')\n",
    "    correct_s = correct_names.count('squiggle')\n",
    "\n",
    "    wrong_nb = wrong_labels.count('narrowband')\n",
    "    wrong_nbrd = wrong_labels.count('narrowbanddrd')\n",
    "    wrong_noise = wrong_labels.count('noise')\n",
    "    wrong_s = wrong_labels.count('squiggle')\n",
    "\n",
    "    #build into easy-to-read dataframe \n",
    "    c = np.vstack([correct_nb, correct_nbrd, correct_noise, correct_s])\n",
    "    w = np.vstack([wrong_nb, wrong_nbrd, wrong_noise, wrong_s])\n",
    "    print pd.DataFrame(data=np.hstack([c,w]),\n",
    "                index=['narrowband', 'narrowbandRD', 'noise', 'squiggle'], \n",
    "                columns=['correct', 'wrong'])\n",
    "\n",
    "\n",
    "    ##--- ERRORS HEATMAP ---##\n",
    "    model_hm = pd.DataFrame(wrong_data.T, columns=['prediction', 'label'])\n",
    "    model_hm['freq'] = model_hm['label'].apply(lambda x: 1) #apply layer of ones for error counting \n",
    "\n",
    "    model_hm_group = model_hm.groupby([\"label\", \"prediction\"]).count() #2x group-by to get error count frequency \n",
    "    model_hm_freq = model_hm_group.reset_index() #must reset indeces of groupby \n",
    "\n",
    "    model_hm_freq.columns = ['label', 'prediction', '']\n",
    "    model_hm_group_pivot = model_hm_freq.pivot('label', 'prediction')\n",
    "    model_hm_group_pivot #similar to a confusion matrix \n",
    "\n",
    "    fig = plt.figure(figsize=(10, 8))\n",
    "    model_hm_heat = sb.heatmap(model_hm_group_pivot,\n",
    "                          annot=True, #print number on heatmap\n",
    "                          fmt='g', #no decimals\n",
    "                          cmap = 'Blues')\n",
    "    model_hm_heat.set(xlabel='Model Predictions',\n",
    "                      ylabel='True Label',\n",
    "                      title=\" Prediction Errors Frequency Table\") #names[j] + \n",
    "    plt.show()"
   ]
  },
  {
   "cell_type": "markdown",
   "metadata": {},
   "source": [
    "What we are seeing is the true labels on the y-axis, ConvNet predictions on the x-axis, and frequency of those errors as depth of color. What this tells us is that 106 misclassifications on Logistic Regression for Narrowband (N), 93 were for NarrowbandRD (NRD), 0 was for noise, and 13 for squiggles, and so on. \n",
    "\n",
    "And so, in general, when there is an error with N/NRD they are misclassfied for eachother. The remainder of the time they are misclassified for squiggles. Also, SVM seems to perform much better on all fronts compared to the other two types, while still leaving about a 50/50 guess when it comes to disttinguishing N and NRD. \n",
    "\n",
    "Funneling this knowledge into action means that we need to change our image processing techniques to focus on N/NRD, specifically working to distinguish the two from eachother and, as a lower priority, from squiggles. Getting additional data to boost the n-samples for NRD would be huge, too."
   ]
  },
  {
   "cell_type": "code",
   "execution_count": null,
   "metadata": {
    "collapsed": true
   },
   "outputs": [],
   "source": []
  }
 ],
 "metadata": {
  "kernelspec": {
   "display_name": "Python 2",
   "language": "python",
   "name": "python2"
  },
  "language_info": {
   "codemirror_mode": {
    "name": "ipython",
    "version": 2
   },
   "file_extension": ".py",
   "mimetype": "text/x-python",
   "name": "python",
   "nbconvert_exporter": "python",
   "pygments_lexer": "ipython2",
   "version": "2.7.13"
  }
 },
 "nbformat": 4,
 "nbformat_minor": 2
}
