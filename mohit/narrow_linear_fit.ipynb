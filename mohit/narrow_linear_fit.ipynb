{
 "cells": [
  {
   "cell_type": "code",
   "execution_count": 1,
   "metadata": {
    "collapsed": true
   },
   "outputs": [],
   "source": [
    "import ibmseti\n",
    "import numpy as np\n",
    "import matplotlib.pyplot as plt\n",
    "import os\n",
    "import scipy\n",
    "import zipfile\n",
    "\n",
    "from obspy.core import read\n",
    "from obspy.signal.trigger import classic_sta_lta\n",
    "from astropy.convolution import convolve, Box1DKernel\n",
    "from scipy import ndimage\n",
    "\n",
    "import cv2\n",
    "%matplotlib inline\n",
    "import statsmodels.api as sm\n",
    "import pandas as pd\n",
    "import seaborn as sb\n",
    "from sklearn.preprocessing import MinMaxScaler\n",
    "from sklearn.metrics import confusion_matrix"
   ]
  },
  {
   "cell_type": "code",
   "execution_count": 2,
   "metadata": {
    "collapsed": true
   },
   "outputs": [],
   "source": [
    "# Find the data in the zip file\n",
    "mydatafolder = '../data'\n",
    "zz = zipfile.ZipFile(os.path.join(mydatafolder, 'basic4.zip'))\n",
    "basic4list = zz.namelist() #list of all the image files \n",
    "firstfile = basic4list[1400] #for testing \n",
    "\n",
    "label_csv = pd.read_csv('../data/public_list_basic_v2_26may_2017.csv') #labels for basic4 data \n",
    "label_csv.index = label_csv.UUID #make ID the index"
   ]
  },
  {
   "cell_type": "code",
   "execution_count": 3,
   "metadata": {
    "collapsed": true
   },
   "outputs": [],
   "source": [
    "def spectrogram_raw(in_file):\n",
    "    '''\n",
    "    raw np array of spectrogram \n",
    "    '''\n",
    "    \n",
    "    # Read data into ibmseti object\n",
    "    aca = ibmseti.compamp.SimCompamp(zz.open(in_file).read())\n",
    "\n",
    "    # Get the raw complex data\n",
    "    complex_data = aca.complex_data()\n",
    "    complex_data = complex_data.reshape(32, 6144)\n",
    "    cpfft = np.fft.fftshift( np.fft.fft(complex_data), 1)\n",
    "    spectrogram = np.abs(cpfft)**2\n",
    "    \n",
    "    return spectrogram\n",
    "\n",
    "\n",
    "def seismogram(in_file):    \n",
    "    '''\n",
    "    Sanjoy's Seismogram image processing function \n",
    "    Create binary image of highly denoised spectrogram \n",
    "    '''\n",
    "    \n",
    "    # Read data into ibmseti object\n",
    "    aca = ibmseti.compamp.SimCompamp(zz.open(in_file).read())\n",
    "\n",
    "    # Get the raw complex data\n",
    "    complex_data = aca.complex_data()\n",
    "    complex_data = complex_data.reshape(32, 6144)\n",
    "    cpfft = np.fft.fftshift( np.fft.fft(complex_data), 1)\n",
    "    spectrogram = np.abs(cpfft)**2\n",
    "\n",
    "    # Create a new empty spectrogram to contain the smooth spedtrogram values\n",
    "    smoothedspectro=np.zeros(np.shape(spectrogram))\n",
    "\n",
    "    # Apply seismogram filtering to data\n",
    "    for i in range(np.shape(spectrogram)[0]):\n",
    "        background = convolve(spectrogram[i], Box1DKernel(100))\n",
    "        smoothedspectro[i]=spectrogram[i] - background\n",
    "        df = 20\n",
    "        cft = classic_sta_lta(smoothedspectro[i], int(5 * df), int(10 * df))\n",
    "        indices_ut = np.where(cft>1.7)\n",
    "        indices_ut = list(indices_ut[0])\n",
    "        indices_lt = np.where(cft<0.2)\n",
    "        indices_lt  = list(indices_lt[0])\n",
    "        indices = indices_ut + indices_lt\n",
    "        indices_zero = range(0,6144)\n",
    "        indices_zero = list(set(indices_zero) - set(indices))\n",
    "        smoothedspectro[i][indices_zero] = 0\n",
    "        smoothedspectro[i][indices_ut] = 1\n",
    "        smoothedspectro[i][indices_lt] = 1\n",
    "        smoothedspectro[i][:500] = 0\n",
    "\n",
    "    # Binarize the image\n",
    "    ndimage.binary_erosion(np.asarray(smoothedspectro), structure=np.ones((100,100))).astype(np.int)\n",
    "    \n",
    "    return smoothedspectro\n",
    "\n",
    "# #Plot siesmo spectrogram\n",
    "# fig, ax = plt.subplots(figsize=(8, 4))\n",
    "# cmap = plt.cm.get_cmap(\"binary\")\n",
    "# ax.imshow(spectrogram, cmap=cmap,aspect = 0.5*float(spectrogram.shape[1]) / spectrogram.shape[0])\n",
    "# ax.set_axis_off()"
   ]
  },
  {
   "cell_type": "code",
   "execution_count": 338,
   "metadata": {},
   "outputs": [],
   "source": [
    "def narrow_linear_fit(image):\n",
    "    \n",
    "    '''\n",
    "    arugments:  the image and a stretch factor\n",
    "    \n",
    "    this function applies image processing for smoothing/closing\n",
    "    it then skeletonizes the image to a line width of one\n",
    "    these pixel locations are taken and fit to a linear model \n",
    "    r^2 is taken to distinguish between narrowband (linear) and narrowbandrd (curved)\n",
    "    \n",
    "    returns: linear model object, dependent values for line, independent values for line, spectrogram \n",
    "    '''\n",
    "    \n",
    "    # IMAGE PROCESSING #\n",
    "    spectrogram = seismogram(image)\n",
    "    spectrogram = np.uint8(spectrogram) #prep for openCV \n",
    "    kernel = np.ones((11,11),np.uint8) #kernel size for morpho closing \n",
    "    spectrogram = cv2.morphologyEx(spectrogram, cv2.MORPH_CLOSE, kernel) #close holes \n",
    "    spectrogram = cv2.GaussianBlur(spectrogram, (11,11), 0) #close gaps\n",
    "    spectrogram[spectrogram > 0] = 255 #make binary\n",
    "    \n",
    "    #skeletonize the band, put line loc into curve list \n",
    "    def skeletonize(row):\n",
    "        return np.median(np.array(np.nonzero(row > 0))) \n",
    "    curve = []\n",
    "    curve.append(np.apply_along_axis(skeletonize, 1, spectrogram))\n",
    "    curve =  np.array(curve).flatten() #convert to numpy for speed \n",
    "    curve = curve[~np.isnan(curve)] # get rid of NAN values (where image is blank)\n",
    "    curve_std = np.std(curve) #standard deviation of curve values\n",
    "    \n",
    "    #scale data between 0-~32 (height of raw image, minus the dropped NANs)\n",
    "    scaler = MinMaxScaler()\n",
    "    curve = scaler.fit_transform(curve.reshape(-1, 1))\n",
    "    X = np.linspace((curve.shape[0]-1), 0, curve.shape[0]).flatten()\n",
    "    curve = curve*X.shape[0] \n",
    "    \n",
    "    #constrain  edges (seemed to cause some issues)\n",
    "    curve = curve[2:-2] \n",
    "    X = X[2:-2]\n",
    "    \n",
    "    #fit a linear regression to the skeletonized line\n",
    "    X = sm.add_constant(X)\n",
    "    linear_fit = sm.OLS(curve, X).fit() \n",
    "    slope, intercept = linear_fit.params\n",
    "\n",
    "    return linear_fit, curve, X, slope, intercept, curve_std, spectrogram "
   ]
  },
  {
   "cell_type": "code",
   "execution_count": 339,
   "metadata": {
    "scrolled": false
   },
   "outputs": [
    {
     "name": "stdout",
     "output_type": "stream",
     "text": [
      "1.0 % completed\n",
      "10.0 % completed\n",
      "20.0 % completed\n",
      "30.0 % completed\n",
      "40.0 % completed\n",
      "50.0 % completed\n",
      "60.0 % completed\n",
      "70.0 % completed\n",
      "80.0 % completed\n",
      "90.0 % completed\n"
     ]
    }
   ],
   "source": [
    "plot_ = False #toggle \n",
    "data = np.empty((6,)) #for logging values \n",
    "index = ['null'] #for logging values \n",
    "\n",
    "for i, img_name in enumerate(basic4list): \n",
    "    full_label = label_csv.loc[img_name.split('.')[0]] #ID \n",
    "    class_ = full_label[1]\n",
    "    if class_=='narrowbanddrd' or class_=='narrowband':\n",
    "        index.append(img_name)\n",
    "        model, line, x, m, b, std, spectrogram  = narrow_linear_fit(img_name) #apply linear function \n",
    "\n",
    "        data = np.vstack((data, [class_, model.rsquared, model.rsquared_adj, m, b, std]))  #log for analysis        \n",
    "#         print class_\n",
    "#         print result.rsquared, result.rsquared_adj\n",
    "        \n",
    "        if plot_ == True:\n",
    "            fig, (ax1, ax2) = plt.subplots(1, 2)\n",
    "            fig.set_size_inches(7, 7)\n",
    "            ax1.plot(line, x)\n",
    "            ax2.imshow(spectrogram, aspect = 10000)\n",
    "            plt.show()\n",
    "\n",
    "    progress = i/float(len(basic4list))*100\n",
    "    if  progress in [1, 10, 20, 30, 40, 50, 60, 70, 80, 90, 100]:\n",
    "        print progress, '% completed'\n",
    "            \n",
    "results = pd.DataFrame(data=data, columns=['class', 'r2', 'adj_r2', 'slope', 'intercept', 'std'], index=index)"
   ]
  },
  {
   "cell_type": "markdown",
   "metadata": {},
   "source": [
    "# Data prep"
   ]
  },
  {
   "cell_type": "code",
   "execution_count": 349,
   "metadata": {},
   "outputs": [],
   "source": [
    "# build a data frame of the results \n",
    "# only run once!\n",
    "# results = results[1:] #first row null \n",
    "results[[1:]] = results[[1:]].apply(pd.to_numeric) #string to float \n",
    "results[['r2', 'adj_r2', 'slope', 'intercept', 'std']] = results[['r2', 'adj_r2', 'slope', 'intercept', 'std']].apply(pd.to_numeric) #string to float "
   ]
  },
  {
   "cell_type": "code",
   "execution_count": 350,
   "metadata": {},
   "outputs": [
    {
     "data": {
      "image/png": "[encoded data removed]",
      "text/plain": [
       "<matplotlib.figure.Figure at 0x16b92a20>"
      ]
     },
     "metadata": {},
     "output_type": "display_data"
    },
    {
     "data": {
      "text/html": [
       "<div>\n",
       "<table border=\"1\" class=\"dataframe\">\n",
       "  <thead>\n",
       "    <tr style=\"text-align: right;\">\n",
       "      <th></th>\n",
       "      <th>class</th>\n",
       "      <th>r2</th>\n",
       "      <th>adj_r2</th>\n",
       "      <th>slope</th>\n",
       "      <th>intercept</th>\n",
       "      <th>std</th>\n",
       "    </tr>\n",
       "  </thead>\n",
       "  <tbody>\n",
       "    <tr>\n",
       "      <th>001b4fbd-bfbc-49e0-83a8-8b3c5b8b303d.dat</th>\n",
       "      <td>narrowbanddrd</td>\n",
       "      <td>0.946073</td>\n",
       "      <td>0.943999</td>\n",
       "      <td>30.822459</td>\n",
       "      <td>-1.234244</td>\n",
       "      <td>24.348177</td>\n",
       "    </tr>\n",
       "    <tr>\n",
       "      <th>008f5103-bd62-4d4a-b4ba-7a2dcc0ba217.dat</th>\n",
       "      <td>narrowband</td>\n",
       "      <td>0.997530</td>\n",
       "      <td>0.997435</td>\n",
       "      <td>-3.185448</td>\n",
       "      <td>1.236958</td>\n",
       "      <td>61.930751</td>\n",
       "    </tr>\n",
       "    <tr>\n",
       "      <th>009f6e84-1a0b-4b62-9d94-0ab9481ee6f9.dat</th>\n",
       "      <td>narrowband</td>\n",
       "      <td>0.998013</td>\n",
       "      <td>0.997937</td>\n",
       "      <td>34.954821</td>\n",
       "      <td>-1.229894</td>\n",
       "      <td>121.506943</td>\n",
       "    </tr>\n",
       "    <tr>\n",
       "      <th>00ecd657-522d-41a9-a695-2e7dcf5d2620.dat</th>\n",
       "      <td>narrowband</td>\n",
       "      <td>0.997322</td>\n",
       "      <td>0.997219</td>\n",
       "      <td>34.917098</td>\n",
       "      <td>-1.224170</td>\n",
       "      <td>73.855828</td>\n",
       "    </tr>\n",
       "    <tr>\n",
       "      <th>0120f4d9-2750-4add-959a-2754b5694209.dat</th>\n",
       "      <td>narrowband</td>\n",
       "      <td>0.997798</td>\n",
       "      <td>0.997714</td>\n",
       "      <td>-2.990244</td>\n",
       "      <td>1.227858</td>\n",
       "      <td>83.883842</td>\n",
       "    </tr>\n",
       "  </tbody>\n",
       "</table>\n",
       "</div>"
      ],
      "text/plain": [
       "                                                  class        r2    adj_r2  \\\n",
       "001b4fbd-bfbc-49e0-83a8-8b3c5b8b303d.dat  narrowbanddrd  0.946073  0.943999   \n",
       "008f5103-bd62-4d4a-b4ba-7a2dcc0ba217.dat     narrowband  0.997530  0.997435   \n",
       "009f6e84-1a0b-4b62-9d94-0ab9481ee6f9.dat     narrowband  0.998013  0.997937   \n",
       "00ecd657-522d-41a9-a695-2e7dcf5d2620.dat     narrowband  0.997322  0.997219   \n",
       "0120f4d9-2750-4add-959a-2754b5694209.dat     narrowband  0.997798  0.997714   \n",
       "\n",
       "                                              slope  intercept         std  \n",
       "001b4fbd-bfbc-49e0-83a8-8b3c5b8b303d.dat  30.822459  -1.234244   24.348177  \n",
       "008f5103-bd62-4d4a-b4ba-7a2dcc0ba217.dat  -3.185448   1.236958   61.930751  \n",
       "009f6e84-1a0b-4b62-9d94-0ab9481ee6f9.dat  34.954821  -1.229894  121.506943  \n",
       "00ecd657-522d-41a9-a695-2e7dcf5d2620.dat  34.917098  -1.224170   73.855828  \n",
       "0120f4d9-2750-4add-959a-2754b5694209.dat  -2.990244   1.227858   83.883842  "
      ]
     },
     "execution_count": 350,
     "metadata": {},
     "output_type": "execute_result"
    }
   ],
   "source": [
    "# split the narrowband and narrowbandrd labels and filter by r^2\n",
    "nb_drd = results[results['class']=='narrowbanddrd']['adj_r2']\n",
    "nb_drd = nb_drd[nb_drd>0.98] #filter r^2 values to help find the intersection \n",
    "nb = results[results['class']=='narrowband']['adj_r2']\n",
    "nb = nb[nb>0.98]\n",
    "\n",
    "#kernel density plot (smoothed histogram)\n",
    "sb.kdeplot(nb_rd, gridsize=1000, shade=True)\n",
    "sb.kdeplot(nb, gridsize=1000, shade=True)\n",
    "plt.legend(['narrowband drd', 'narrowband'])\n",
    "plt.title('Relative Likelyhood of R^2 Values')\n",
    "plt.xlabel('r squared')\n",
    "plt.ylabel('occurences')\n",
    "plt.show()\n",
    "\n",
    "results.head()"
   ]
  },
  {
   "cell_type": "code",
   "execution_count": 357,
   "metadata": {},
   "outputs": [
    {
     "name": "stderr",
     "output_type": "stream",
     "text": [
      "C:\\Users\\mohit\\Anaconda2\\lib\\site-packages\\ipykernel\\__main__.py:11: SettingWithCopyWarning: \n",
      "A value is trying to be set on a copy of a slice from a DataFrame.\n",
      "Try using .loc[row_indexer,col_indexer] = value instead\n",
      "\n",
      "See the caveats in the documentation: http://pandas.pydata.org/pandas-docs/stable/indexing.html#indexing-view-versus-copy\n"
     ]
    },
    {
     "data": {
      "text/html": [
       "<div>\n",
       "<table border=\"1\" class=\"dataframe\">\n",
       "  <thead>\n",
       "    <tr style=\"text-align: right;\">\n",
       "      <th></th>\n",
       "      <th>class</th>\n",
       "      <th>r2</th>\n",
       "      <th>adj_r2</th>\n",
       "      <th>slope</th>\n",
       "      <th>intercept</th>\n",
       "      <th>std</th>\n",
       "      <th>pred</th>\n",
       "      <th>acc</th>\n",
       "    </tr>\n",
       "  </thead>\n",
       "  <tbody>\n",
       "    <tr>\n",
       "      <th>001b4fbd-bfbc-49e0-83a8-8b3c5b8b303d.dat</th>\n",
       "      <td>narrowbanddrd</td>\n",
       "      <td>0.946073</td>\n",
       "      <td>0.943999</td>\n",
       "      <td>30.822459</td>\n",
       "      <td>-1.234244</td>\n",
       "      <td>24.348177</td>\n",
       "      <td>narrowbanddrd</td>\n",
       "      <td>True</td>\n",
       "    </tr>\n",
       "    <tr>\n",
       "      <th>008f5103-bd62-4d4a-b4ba-7a2dcc0ba217.dat</th>\n",
       "      <td>narrowband</td>\n",
       "      <td>0.997530</td>\n",
       "      <td>0.997435</td>\n",
       "      <td>-3.185448</td>\n",
       "      <td>1.236958</td>\n",
       "      <td>61.930751</td>\n",
       "      <td>narrowband</td>\n",
       "      <td>True</td>\n",
       "    </tr>\n",
       "    <tr>\n",
       "      <th>009f6e84-1a0b-4b62-9d94-0ab9481ee6f9.dat</th>\n",
       "      <td>narrowband</td>\n",
       "      <td>0.998013</td>\n",
       "      <td>0.997937</td>\n",
       "      <td>34.954821</td>\n",
       "      <td>-1.229894</td>\n",
       "      <td>121.506943</td>\n",
       "      <td>narrowband</td>\n",
       "      <td>True</td>\n",
       "    </tr>\n",
       "    <tr>\n",
       "      <th>00ecd657-522d-41a9-a695-2e7dcf5d2620.dat</th>\n",
       "      <td>narrowband</td>\n",
       "      <td>0.997322</td>\n",
       "      <td>0.997219</td>\n",
       "      <td>34.917098</td>\n",
       "      <td>-1.224170</td>\n",
       "      <td>73.855828</td>\n",
       "      <td>narrowband</td>\n",
       "      <td>True</td>\n",
       "    </tr>\n",
       "    <tr>\n",
       "      <th>0120f4d9-2750-4add-959a-2754b5694209.dat</th>\n",
       "      <td>narrowband</td>\n",
       "      <td>0.997798</td>\n",
       "      <td>0.997714</td>\n",
       "      <td>-2.990244</td>\n",
       "      <td>1.227858</td>\n",
       "      <td>83.883842</td>\n",
       "      <td>narrowband</td>\n",
       "      <td>True</td>\n",
       "    </tr>\n",
       "  </tbody>\n",
       "</table>\n",
       "</div>"
      ],
      "text/plain": [
       "                                                  class        r2    adj_r2  \\\n",
       "001b4fbd-bfbc-49e0-83a8-8b3c5b8b303d.dat  narrowbanddrd  0.946073  0.943999   \n",
       "008f5103-bd62-4d4a-b4ba-7a2dcc0ba217.dat     narrowband  0.997530  0.997435   \n",
       "009f6e84-1a0b-4b62-9d94-0ab9481ee6f9.dat     narrowband  0.998013  0.997937   \n",
       "00ecd657-522d-41a9-a695-2e7dcf5d2620.dat     narrowband  0.997322  0.997219   \n",
       "0120f4d9-2750-4add-959a-2754b5694209.dat     narrowband  0.997798  0.997714   \n",
       "\n",
       "                                              slope  intercept         std  \\\n",
       "001b4fbd-bfbc-49e0-83a8-8b3c5b8b303d.dat  30.822459  -1.234244   24.348177   \n",
       "008f5103-bd62-4d4a-b4ba-7a2dcc0ba217.dat  -3.185448   1.236958   61.930751   \n",
       "009f6e84-1a0b-4b62-9d94-0ab9481ee6f9.dat  34.954821  -1.229894  121.506943   \n",
       "00ecd657-522d-41a9-a695-2e7dcf5d2620.dat  34.917098  -1.224170   73.855828   \n",
       "0120f4d9-2750-4add-959a-2754b5694209.dat  -2.990244   1.227858   83.883842   \n",
       "\n",
       "                                                   pred   acc  \n",
       "001b4fbd-bfbc-49e0-83a8-8b3c5b8b303d.dat  narrowbanddrd  True  \n",
       "008f5103-bd62-4d4a-b4ba-7a2dcc0ba217.dat     narrowband  True  \n",
       "009f6e84-1a0b-4b62-9d94-0ab9481ee6f9.dat     narrowband  True  \n",
       "00ecd657-522d-41a9-a695-2e7dcf5d2620.dat     narrowband  True  \n",
       "0120f4d9-2750-4add-959a-2754b5694209.dat     narrowband  True  "
      ]
     },
     "execution_count": 357,
     "metadata": {},
     "output_type": "execute_result"
    }
   ],
   "source": [
    "r2_threshold = 0.996 #intersection \n",
    "def r2_predictions(x):\n",
    "    if x['adj_r2']>r2_threshold: \n",
    "        return 'narrowband'\n",
    "    else: \n",
    "        return 'narrowbanddrd'\n",
    "    \n",
    "results['pred'] = results.apply(r2_predictions, axis=1) #apply predictions \n",
    "results.head()"
   ]
  },
  {
   "cell_type": "code",
   "execution_count": 358,
   "metadata": {},
   "outputs": [
    {
     "data": {
      "image/png": "[encoded data removed]",
      "text/plain": [
       "<matplotlib.figure.Figure at 0x131aa3c8>"
      ]
     },
     "metadata": {},
     "output_type": "display_data"
    },
    {
     "name": "stdout",
     "output_type": "stream",
     "text": [
      "accuracy: 0.8895\n"
     ]
    }
   ],
   "source": [
    "#create a confusion matrix to sort the predictions and calculate accuracy\n",
    "labels = [\"narrowband\", \"narrowbanddrd\"]\n",
    "cm = confusion_matrix(results['class'], results['pred'], labels=labels) \n",
    "cm = pd.DataFrame(data=cm, columns=labels, index=labels)\n",
    "\n",
    "fig = plt.figure()\n",
    "sb.heatmap(cm, annot=True, fmt='g', cmap='Blues')\n",
    "\n",
    "plt.title('Confusion matrix of the classifier')\n",
    "plt.xlabel('Predicted')\n",
    "plt.ylabel('True')\n",
    "plt.show()\n",
    "\n",
    "correct = cm.values[0][0] + cm.values[1][1]\n",
    "total = float(cm.values.sum())\n",
    "accuracy = correct / total\n",
    "print 'accuracy:', accuracy"
   ]
  },
  {
   "cell_type": "markdown",
   "metadata": {},
   "source": [
    "# Analysis \n",
    "\n",
    "In this go around I was trying to distinguish Narrowband (N) from NarrowbandRD (RD) by fitting the bands to a linear regression. Since N is supposed to be linear and RD is supposed to be curved, their $R^2$ should be a telling feature. I did some light image processing on top of the seismogram processor - morphological closing of the bands, smoothing, adn skeletonizing. I also tried warping the images by stretching them out, thinking that the curves could be exaggerated, but that didn't yeild much. \n",
    "\n",
    "Once I got the skeletonized image, where the band was one pixel in width, I got the indeces of the band, scaled it so it would plot nicely, and fit it to a linaer regression. I then looped this over all the N/RD images, and tabulated the results. Above you can see a confusion matrix of the predictions and labels. We got a overall 86% accuracy, calculated as  $\\frac{number Correct}{total}$. Narrowband false positive rate is driving the error, meaning that the RD curves may often appear linear; at least with this image processing.  \n",
    "\n",
    "## Error Analysis\n",
    "\n",
    "Below I label our predictions as True or False with the 'acc' column."
   ]
  },
  {
   "cell_type": "code",
   "execution_count": 451,
   "metadata": {},
   "outputs": [
    {
     "name": "stderr",
     "output_type": "stream",
     "text": [
      "C:\\Users\\mohit\\Anaconda2\\lib\\site-packages\\ipykernel\\__main__.py:7: SettingWithCopyWarning: \n",
      "A value is trying to be set on a copy of a slice from a DataFrame.\n",
      "Try using .loc[row_indexer,col_indexer] = value instead\n",
      "\n",
      "See the caveats in the documentation: http://pandas.pydata.org/pandas-docs/stable/indexing.html#indexing-view-versus-copy\n"
     ]
    },
    {
     "data": {
      "text/html": [
       "<div>\n",
       "<table border=\"1\" class=\"dataframe\">\n",
       "  <thead>\n",
       "    <tr style=\"text-align: right;\">\n",
       "      <th></th>\n",
       "      <th>class</th>\n",
       "      <th>r2</th>\n",
       "      <th>adj_r2</th>\n",
       "      <th>slope</th>\n",
       "      <th>intercept</th>\n",
       "      <th>std</th>\n",
       "      <th>pred</th>\n",
       "      <th>acc</th>\n",
       "    </tr>\n",
       "  </thead>\n",
       "  <tbody>\n",
       "    <tr>\n",
       "      <th>001b4fbd-bfbc-49e0-83a8-8b3c5b8b303d.dat</th>\n",
       "      <td>narrowbanddrd</td>\n",
       "      <td>0.946073</td>\n",
       "      <td>0.943999</td>\n",
       "      <td>30.822459</td>\n",
       "      <td>-1.234244</td>\n",
       "      <td>24.348177</td>\n",
       "      <td>narrowbanddrd</td>\n",
       "      <td>True</td>\n",
       "    </tr>\n",
       "    <tr>\n",
       "      <th>008f5103-bd62-4d4a-b4ba-7a2dcc0ba217.dat</th>\n",
       "      <td>narrowband</td>\n",
       "      <td>0.997530</td>\n",
       "      <td>0.997435</td>\n",
       "      <td>-3.185448</td>\n",
       "      <td>1.236958</td>\n",
       "      <td>61.930751</td>\n",
       "      <td>narrowband</td>\n",
       "      <td>True</td>\n",
       "    </tr>\n",
       "    <tr>\n",
       "      <th>009f6e84-1a0b-4b62-9d94-0ab9481ee6f9.dat</th>\n",
       "      <td>narrowband</td>\n",
       "      <td>0.998013</td>\n",
       "      <td>0.997937</td>\n",
       "      <td>34.954821</td>\n",
       "      <td>-1.229894</td>\n",
       "      <td>121.506943</td>\n",
       "      <td>narrowband</td>\n",
       "      <td>True</td>\n",
       "    </tr>\n",
       "  </tbody>\n",
       "</table>\n",
       "</div>"
      ],
      "text/plain": [
       "                                                  class        r2    adj_r2  \\\n",
       "001b4fbd-bfbc-49e0-83a8-8b3c5b8b303d.dat  narrowbanddrd  0.946073  0.943999   \n",
       "008f5103-bd62-4d4a-b4ba-7a2dcc0ba217.dat     narrowband  0.997530  0.997435   \n",
       "009f6e84-1a0b-4b62-9d94-0ab9481ee6f9.dat     narrowband  0.998013  0.997937   \n",
       "\n",
       "                                              slope  intercept         std  \\\n",
       "001b4fbd-bfbc-49e0-83a8-8b3c5b8b303d.dat  30.822459  -1.234244   24.348177   \n",
       "008f5103-bd62-4d4a-b4ba-7a2dcc0ba217.dat  -3.185448   1.236958   61.930751   \n",
       "009f6e84-1a0b-4b62-9d94-0ab9481ee6f9.dat  34.954821  -1.229894  121.506943   \n",
       "\n",
       "                                                   pred   acc  \n",
       "001b4fbd-bfbc-49e0-83a8-8b3c5b8b303d.dat  narrowbanddrd  True  \n",
       "008f5103-bd62-4d4a-b4ba-7a2dcc0ba217.dat     narrowband  True  \n",
       "009f6e84-1a0b-4b62-9d94-0ab9481ee6f9.dat     narrowband  True  "
      ]
     },
     "execution_count": 451,
     "metadata": {},
     "output_type": "execute_result"
    }
   ],
   "source": [
    "def labeler(x):\n",
    "    if x['class'] == x['pred']:\n",
    "        return True\n",
    "    else:\n",
    "        return False\n",
    "    \n",
    "results['acc'] = results.apply(labeler, axis=1)\n",
    "results.head(3)"
   ]
  },
  {
   "cell_type": "markdown",
   "metadata": {},
   "source": [
    "### Lets look at where narrowbanddrd was the true class, but we incorrectly predicted narrowband. \n",
    "\n",
    "$r^2$ should be high since these were thresholded. These lines should appear to be linear according to the algorithm. Lets dig through to see if there is something that the algo missed. "
   ]
  },
  {
   "cell_type": "code",
   "execution_count": 467,
   "metadata": {},
   "outputs": [
    {
     "data": {
      "text/html": [
       "<div>\n",
       "<table border=\"1\" class=\"dataframe\">\n",
       "  <thead>\n",
       "    <tr style=\"text-align: right;\">\n",
       "      <th></th>\n",
       "      <th>r2</th>\n",
       "      <th>adj_r2</th>\n",
       "      <th>slope</th>\n",
       "      <th>intercept</th>\n",
       "      <th>std</th>\n",
       "    </tr>\n",
       "  </thead>\n",
       "  <tbody>\n",
       "    <tr>\n",
       "      <th>count</th>\n",
       "      <td>932.000000</td>\n",
       "      <td>932.000000</td>\n",
       "      <td>932.000000</td>\n",
       "      <td>932.000000</td>\n",
       "      <td>932.000000</td>\n",
       "    </tr>\n",
       "    <tr>\n",
       "      <th>mean</th>\n",
       "      <td>0.934920</td>\n",
       "      <td>0.932416</td>\n",
       "      <td>17.014302</td>\n",
       "      <td>-0.058614</td>\n",
       "      <td>95.465059</td>\n",
       "    </tr>\n",
       "    <tr>\n",
       "      <th>std</th>\n",
       "      <td>0.160486</td>\n",
       "      <td>0.166658</td>\n",
       "      <td>18.641054</td>\n",
       "      <td>1.198670</td>\n",
       "      <td>59.079517</td>\n",
       "    </tr>\n",
       "    <tr>\n",
       "      <th>min</th>\n",
       "      <td>0.001457</td>\n",
       "      <td>-0.036948</td>\n",
       "      <td>-9.218056</td>\n",
       "      <td>-1.363786</td>\n",
       "      <td>4.975624</td>\n",
       "    </tr>\n",
       "    <tr>\n",
       "      <th>25%</th>\n",
       "      <td>0.968862</td>\n",
       "      <td>0.967665</td>\n",
       "      <td>-2.128250</td>\n",
       "      <td>-1.231320</td>\n",
       "      <td>43.860808</td>\n",
       "    </tr>\n",
       "    <tr>\n",
       "      <th>50%</th>\n",
       "      <td>0.990502</td>\n",
       "      <td>0.990137</td>\n",
       "      <td>26.255614</td>\n",
       "      <td>-0.862170</td>\n",
       "      <td>92.812088</td>\n",
       "    </tr>\n",
       "    <tr>\n",
       "      <th>75%</th>\n",
       "      <td>0.994258</td>\n",
       "      <td>0.994037</td>\n",
       "      <td>34.307690</td>\n",
       "      <td>1.229387</td>\n",
       "      <td>137.657205</td>\n",
       "    </tr>\n",
       "    <tr>\n",
       "      <th>max</th>\n",
       "      <td>0.996148</td>\n",
       "      <td>0.996000</td>\n",
       "      <td>41.252226</td>\n",
       "      <td>1.335627</td>\n",
       "      <td>252.843365</td>\n",
       "    </tr>\n",
       "  </tbody>\n",
       "</table>\n",
       "</div>"
      ],
      "text/plain": [
       "               r2      adj_r2       slope   intercept         std\n",
       "count  932.000000  932.000000  932.000000  932.000000  932.000000\n",
       "mean     0.934920    0.932416   17.014302   -0.058614   95.465059\n",
       "std      0.160486    0.166658   18.641054    1.198670   59.079517\n",
       "min      0.001457   -0.036948   -9.218056   -1.363786    4.975624\n",
       "25%      0.968862    0.967665   -2.128250   -1.231320   43.860808\n",
       "50%      0.990502    0.990137   26.255614   -0.862170   92.812088\n",
       "75%      0.994258    0.994037   34.307690    1.229387  137.657205\n",
       "max      0.996148    0.996000   41.252226    1.335627  252.843365"
      ]
     },
     "execution_count": 467,
     "metadata": {},
     "output_type": "execute_result"
    }
   ],
   "source": [
    "#filter where narrowbanddrd was the true class\n",
    "wrong_predictions = results[results['acc']==False] #wrong predictions \n",
    "correct_predictions = results[results['acc']==True] #correct predictions \n",
    "\n",
    "correct_predictions_NB = correct_predictions[correct_predictions['pred'] == 'narrowband'] #correctly predicted NB\n",
    "correct_predictions_DRD = correct_predictions[correct_predictions['pred'] == 'narrowbanddrd'] #correctly predicted DRD\n",
    "wrong_predictions_NB = wrong_predictions[wrong_predictions['pred'] == 'narrowband'] #incorrectly predicted NB\n",
    "wrong_predictions_DRD = wrong_predictions[wrong_predictions['pred'] == 'narrowbanddrd'] #incorrectly predicted DRD\n",
    "\n",
    "correct_predictions_DRD.describe()"
   ]
  },
  {
   "cell_type": "markdown",
   "metadata": {},
   "source": [
    "Hmm. It looks like the standard deviations of the skeletonized curves are particularly high for these incorrect predictions. Scrolling up, when you compare them to the average of all the predictions, these incorrect ones are substantially higher. Lets quantify that. "
   ]
  },
  {
   "cell_type": "code",
   "execution_count": 481,
   "metadata": {},
   "outputs": [
    {
     "data": {
      "image/png": "[encoded data removed]",
      "text/plain": [
       "<matplotlib.figure.Figure at 0x1ab09eb8>"
      ]
     },
     "metadata": {},
     "output_type": "display_data"
    }
   ],
   "source": [
    "sb.kdeplot(correct_predictions_NB['std'])\n",
    "sb.kdeplot(correct_predictions_DRD['std'])\n",
    "sb.kdeplot(wrong_predictions_NB['std'])\n",
    "sb.kdeplot(wrong_predictions_DRD['std'])\n",
    "\n",
    "plt.legend(['narrowband predicted, correct',\n",
    "            'narrowbandDRD predicted, correct',\n",
    "            'narrowband predicted, wrong',\n",
    "            'narrowbandDRD predicted, wrong'], loc='best')\n",
    "\n",
    "plt.title('Probability Curves of the Prediction Standard Deviations')\n",
    "plt.xlabel('std dev')\n",
    "plt.ylabel('relative probability')\n",
    "plt.show()"
   ]
  },
  {
   "cell_type": "markdown",
   "metadata": {},
   "source": [
    "So the predictions errors seem to be related to the standard deviation of the curves from which the $r^2$ values are calulated. You can see that because our wrong predictions shift to the extremes, while the correct predictions are more normally distributed. Specfically, when narrowband is the true class, we can distinguish between our correct predictions (blue curve) and our wrong predictions (purple curve), based on the standard deviations. \n",
    "\n",
    "Let's get out of the relative probability space and look at number of occurences. Below is a histogram of that. If we predict narrowbandDRD based on an $r^2$ threshold, and the standard deviation is less than ~5 (the green peak), its likely that our prediction is wrong, and the true class is narrowband. We can put that conditional in our classifier."
   ]
  },
  {
   "cell_type": "code",
   "execution_count": 491,
   "metadata": {},
   "outputs": [
    {
     "data": {
      "image/png": "[encoded data removed]",
      "text/plain": [
       "<matplotlib.figure.Figure at 0x19d52be0>"
      ]
     },
     "metadata": {},
     "output_type": "display_data"
    }
   ],
   "source": [
    "plt.hist(correct_predictions_NB['std'], bins=40, );\n",
    "plt.hist(wrong_predictions_DRD['std'], bins=40);\n",
    "\n",
    "plt.legend(['narrowbandNB predicted, correct',\n",
    "            'narrowbandDRD predicted, wrong'])\n",
    "\n",
    "plt.title('True class: narrowband --- Prediction Standard Deviations')\n",
    "plt.xlabel('std dev')\n",
    "plt.ylabel('num occurences')\n",
    "plt.show()"
   ]
  },
  {
   "cell_type": "code",
   "execution_count": 495,
   "metadata": {},
   "outputs": [
    {
     "name": "stderr",
     "output_type": "stream",
     "text": [
      "C:\\Users\\mohit\\Anaconda2\\lib\\site-packages\\ipykernel\\__main__.py:11: SettingWithCopyWarning: \n",
      "A value is trying to be set on a copy of a slice from a DataFrame.\n",
      "Try using .loc[row_indexer,col_indexer] = value instead\n",
      "\n",
      "See the caveats in the documentation: http://pandas.pydata.org/pandas-docs/stable/indexing.html#indexing-view-versus-copy\n"
     ]
    },
    {
     "data": {
      "image/png": "[encoded data removed]",
      "text/plain": [
       "<matplotlib.figure.Figure at 0x187d63c8>"
      ]
     },
     "metadata": {},
     "output_type": "display_data"
    },
    {
     "name": "stdout",
     "output_type": "stream",
     "text": [
      "accuracy: 0.901\n"
     ]
    }
   ],
   "source": [
    "r2_threshold = 0.996 #intersection \n",
    "def r2_std_predictions(x):\n",
    "    if x['adj_r2']>r2_threshold: \n",
    "        return 'narrowband'\n",
    "    else: \n",
    "        if x['std']<5:     #add standard deviation conditional\n",
    "            return 'narrowband'\n",
    "        else:\n",
    "            return 'narrowbanddrd'\n",
    "    \n",
    "results['pred'] = results.apply(r2_std_predictions, axis=1) #apply predictions \n",
    "\n",
    "#create a confusion matrix to sort the predictions and calculate accuracy\n",
    "labels = [\"narrowband\", \"narrowbanddrd\"]\n",
    "cm = confusion_matrix(results['class'], results['pred'], labels=labels) \n",
    "cm = pd.DataFrame(data=cm, columns=labels, index=labels)\n",
    "\n",
    "fig = plt.figure()\n",
    "sb.heatmap(cm, annot=True, fmt='g', cmap='Blues')\n",
    "\n",
    "plt.title('Confusion matrix of the classifier')\n",
    "plt.xlabel('Predicted')\n",
    "plt.ylabel('True')\n",
    "plt.show()\n",
    "\n",
    "correct = cm.values[0][0] + cm.values[1][1]\n",
    "total = float(cm.values.sum())\n",
    "accuracy = correct / total\n",
    "print 'accuracy:', accuracy"
   ]
  },
  {
   "cell_type": "markdown",
   "metadata": {},
   "source": [
    "A marginal boost of ~1.5% accuracy, but its something! We can see that our false narrowbandDRD predictiosn dropped from ~150 to 129, while false narrowband predictions only increased from 68 to 69. A good tradeoff. Any further ideas?"
   ]
  },
  {
   "cell_type": "code",
   "execution_count": null,
   "metadata": {
    "collapsed": true
   },
   "outputs": [],
   "source": []
  },
  {
   "cell_type": "code",
   "execution_count": null,
   "metadata": {
    "collapsed": true
   },
   "outputs": [],
   "source": []
  },
  {
   "cell_type": "code",
   "execution_count": null,
   "metadata": {
    "collapsed": true
   },
   "outputs": [],
   "source": []
  },
  {
   "cell_type": "code",
   "execution_count": null,
   "metadata": {
    "collapsed": true
   },
   "outputs": [],
   "source": []
  },
  {
   "cell_type": "code",
   "execution_count": null,
   "metadata": {
    "collapsed": true
   },
   "outputs": [],
   "source": []
  },
  {
   "cell_type": "code",
   "execution_count": null,
   "metadata": {
    "collapsed": true
   },
   "outputs": [],
   "source": []
  },
  {
   "cell_type": "code",
   "execution_count": null,
   "metadata": {
    "collapsed": true
   },
   "outputs": [],
   "source": []
  },
  {
   "cell_type": "code",
   "execution_count": null,
   "metadata": {
    "collapsed": true
   },
   "outputs": [],
   "source": []
  },
  {
   "cell_type": "code",
   "execution_count": null,
   "metadata": {
    "collapsed": true
   },
   "outputs": [],
   "source": []
  },
  {
   "cell_type": "markdown",
   "metadata": {},
   "source": [
    "# Test code below \n",
    "might not work... but feel free to play with it if you think it is on to something. \n",
    "\n",
    "\n",
    "# Houghlines(P) line detection \n",
    "\n",
    "computer vision technique to find lines "
   ]
  },
  {
   "cell_type": "code",
   "execution_count": 311,
   "metadata": {
    "scrolled": false
   },
   "outputs": [
    {
     "name": "stdout",
     "output_type": "stream",
     "text": [
      "narrowbanddrd False\n"
     ]
    },
    {
     "data": {
      "image/png": "[encoded data removed]",
      "text/plain": [
       "<matplotlib.figure.Figure at 0xff40c88>"
      ]
     },
     "metadata": {},
     "output_type": "display_data"
    },
    {
     "name": "stdout",
     "output_type": "stream",
     "text": [
      "narrowband True\n"
     ]
    },
    {
     "data": {
      "image/png": "[encoded data removed]",
      "text/plain": [
       "<matplotlib.figure.Figure at 0x10253ba8>"
      ]
     },
     "metadata": {},
     "output_type": "display_data"
    },
    {
     "name": "stdout",
     "output_type": "stream",
     "text": [
      "narrowband True\n"
     ]
    },
    {
     "data": {
      "image/png": "[encoded data removed]",
      "text/plain": [
       "<matplotlib.figure.Figure at 0x14f4a6d8>"
      ]
     },
     "metadata": {},
     "output_type": "display_data"
    },
    {
     "name": "stdout",
     "output_type": "stream",
     "text": [
      "narrowband False\n"
     ]
    },
    {
     "data": {
      "image/png": "[encoded data removed]",
      "text/plain": [
       "<matplotlib.figure.Figure at 0x168da7f0>"
      ]
     },
     "metadata": {},
     "output_type": "display_data"
    },
    {
     "name": "stdout",
     "output_type": "stream",
     "text": [
      "narrowband True\n"
     ]
    },
    {
     "data": {
      "image/png": "[encoded data removed]",
      "text/plain": [
       "<matplotlib.figure.Figure at 0xffab978>"
      ]
     },
     "metadata": {},
     "output_type": "display_data"
    },
    {
     "name": "stdout",
     "output_type": "stream",
     "text": [
      "narrowband True\n"
     ]
    },
    {
     "data": {
      "image/png": "[encoded data removed]",
      "text/plain": [
       "<matplotlib.figure.Figure at 0x164d49e8>"
      ]
     },
     "metadata": {},
     "output_type": "display_data"
    },
    {
     "ename": "KeyboardInterrupt",
     "evalue": "",
     "output_type": "error",
     "traceback": [
      "\u001b[0;31m---------------------------------------------------------------------------\u001b[0m",
      "\u001b[0;31mKeyboardInterrupt\u001b[0m                         Traceback (most recent call last)",
      "\u001b[0;32m<ipython-input-311-0da16c66235c>\u001b[0m in \u001b[0;36m<module>\u001b[0;34m()\u001b[0m\n\u001b[1;32m     10\u001b[0m         \u001b[1;31m#print i, full_label #debug\u001b[0m\u001b[1;33m\u001b[0m\u001b[1;33m\u001b[0m\u001b[0m\n\u001b[1;32m     11\u001b[0m \u001b[1;33m\u001b[0m\u001b[0m\n\u001b[0;32m---> 12\u001b[0;31m         \u001b[0mspectrogram\u001b[0m \u001b[1;33m=\u001b[0m \u001b[0mseismogram\u001b[0m\u001b[1;33m(\u001b[0m\u001b[0mimage\u001b[0m\u001b[1;33m)\u001b[0m\u001b[1;33m\u001b[0m\u001b[0m\n\u001b[0m\u001b[1;32m     13\u001b[0m         \u001b[0mspectrogram\u001b[0m \u001b[1;33m=\u001b[0m \u001b[0mnp\u001b[0m\u001b[1;33m.\u001b[0m\u001b[0muint8\u001b[0m\u001b[1;33m(\u001b[0m\u001b[0mspectrogram\u001b[0m\u001b[1;33m)\u001b[0m\u001b[1;33m\u001b[0m\u001b[0m\n\u001b[1;32m     14\u001b[0m         \u001b[0mkernel\u001b[0m \u001b[1;33m=\u001b[0m \u001b[0mnp\u001b[0m\u001b[1;33m.\u001b[0m\u001b[0mones\u001b[0m\u001b[1;33m(\u001b[0m\u001b[1;33m(\u001b[0m\u001b[1;36m11\u001b[0m\u001b[1;33m,\u001b[0m\u001b[1;36m11\u001b[0m\u001b[1;33m)\u001b[0m\u001b[1;33m,\u001b[0m\u001b[0mnp\u001b[0m\u001b[1;33m.\u001b[0m\u001b[0muint8\u001b[0m\u001b[1;33m)\u001b[0m\u001b[1;33m\u001b[0m\u001b[0m\n",
      "\u001b[0;32m<ipython-input-3-01f9dcf7748d>\u001b[0m in \u001b[0;36mseismogram\u001b[0;34m(in_file)\u001b[0m\n\u001b[1;32m     53\u001b[0m \u001b[1;33m\u001b[0m\u001b[0m\n\u001b[1;32m     54\u001b[0m     \u001b[1;31m# Binarize the image\u001b[0m\u001b[1;33m\u001b[0m\u001b[1;33m\u001b[0m\u001b[0m\n\u001b[0;32m---> 55\u001b[0;31m     \u001b[0mndimage\u001b[0m\u001b[1;33m.\u001b[0m\u001b[0mbinary_erosion\u001b[0m\u001b[1;33m(\u001b[0m\u001b[0mnp\u001b[0m\u001b[1;33m.\u001b[0m\u001b[0masarray\u001b[0m\u001b[1;33m(\u001b[0m\u001b[0msmoothedspectro\u001b[0m\u001b[1;33m)\u001b[0m\u001b[1;33m,\u001b[0m \u001b[0mstructure\u001b[0m\u001b[1;33m=\u001b[0m\u001b[0mnp\u001b[0m\u001b[1;33m.\u001b[0m\u001b[0mones\u001b[0m\u001b[1;33m(\u001b[0m\u001b[1;33m(\u001b[0m\u001b[1;36m100\u001b[0m\u001b[1;33m,\u001b[0m\u001b[1;36m100\u001b[0m\u001b[1;33m)\u001b[0m\u001b[1;33m)\u001b[0m\u001b[1;33m)\u001b[0m\u001b[1;33m.\u001b[0m\u001b[0mastype\u001b[0m\u001b[1;33m(\u001b[0m\u001b[0mnp\u001b[0m\u001b[1;33m.\u001b[0m\u001b[0mint\u001b[0m\u001b[1;33m)\u001b[0m\u001b[1;33m\u001b[0m\u001b[0m\n\u001b[0m\u001b[1;32m     56\u001b[0m \u001b[1;33m\u001b[0m\u001b[0m\n\u001b[1;32m     57\u001b[0m     \u001b[1;32mreturn\u001b[0m \u001b[0msmoothedspectro\u001b[0m\u001b[1;33m\u001b[0m\u001b[0m\n",
      "\u001b[0;32mC:\\Users\\mohit\\Anaconda2\\lib\\site-packages\\scipy\\ndimage\\morphology.pyc\u001b[0m in \u001b[0;36mbinary_erosion\u001b[0;34m(input, structure, iterations, mask, output, border_value, origin, brute_force)\u001b[0m\n\u001b[1;32m    376\u001b[0m     \"\"\"\n\u001b[1;32m    377\u001b[0m     return _binary_erosion(input, structure, iterations, mask,\n\u001b[0;32m--> 378\u001b[0;31m                            output, border_value, origin, 0, brute_force)\n\u001b[0m\u001b[1;32m    379\u001b[0m \u001b[1;33m\u001b[0m\u001b[0m\n\u001b[1;32m    380\u001b[0m \u001b[1;33m\u001b[0m\u001b[0m\n",
      "\u001b[0;32mC:\\Users\\mohit\\Anaconda2\\lib\\site-packages\\scipy\\ndimage\\morphology.pyc\u001b[0m in \u001b[0;36m_binary_erosion\u001b[0;34m(input, structure, iterations, mask, output, border_value, origin, invert, brute_force)\u001b[0m\n\u001b[1;32m    246\u001b[0m     \u001b[1;32mif\u001b[0m \u001b[0miterations\u001b[0m \u001b[1;33m==\u001b[0m \u001b[1;36m1\u001b[0m\u001b[1;33m:\u001b[0m\u001b[1;33m\u001b[0m\u001b[0m\n\u001b[1;32m    247\u001b[0m         _nd_image.binary_erosion(input, structure, mask, output,\n\u001b[0;32m--> 248\u001b[0;31m                                      border_value, origin, invert, cit, 0)\n\u001b[0m\u001b[1;32m    249\u001b[0m         \u001b[1;32mreturn\u001b[0m \u001b[0mreturn_value\u001b[0m\u001b[1;33m\u001b[0m\u001b[0m\n\u001b[1;32m    250\u001b[0m     \u001b[1;32melif\u001b[0m \u001b[0mcit\u001b[0m \u001b[1;32mand\u001b[0m \u001b[1;32mnot\u001b[0m \u001b[0mbrute_force\u001b[0m\u001b[1;33m:\u001b[0m\u001b[1;33m\u001b[0m\u001b[0m\n",
      "\u001b[0;31mKeyboardInterrupt\u001b[0m: "
     ]
    }
   ],
   "source": [
    "correct = 0\n",
    "plot_ = True \n",
    "data = np.empty((2,))\n",
    "\n",
    "for image in basic4list: \n",
    "    full_label = label_csv.loc[image.split('.')[0]] #ID \n",
    "    class_ = full_label[1]\n",
    "    if class_=='narrowbanddrd' or class_=='narrowband':\n",
    "        linear = False #init as narrowbandrd \n",
    "        #print i, full_label #debug \n",
    "\n",
    "        spectrogram = seismogram(image)\n",
    "        spectrogram = np.uint8(spectrogram)\n",
    "        kernel = np.ones((11,11),np.uint8)\n",
    "        spectrogram = cv2.morphologyEx(spectrogram, cv2.MORPH_CLOSE, kernel) #close holes \n",
    "           \n",
    "        sobel_h = cv2.Sobel(spectrogram, cv2.CV_8UC1, 1, 0, ksize=7) #edge detector \n",
    "        sobel_v = cv2.Sobel(spectrogram, cv2.CV_8UC1, 0, 1, ksize=7) #edge detector \n",
    "        spectrogram = cv2.addWeighted(sobel_h, 0.5, sobel_v, 0.5, 0) #edge detector \n",
    "        \n",
    "        spectrogram = cv2.GaussianBlur(spectrogram, (11,11), 0) #close gaps\n",
    "        spectrogram[spectrogram > 0] = 255 #make binary\n",
    "\n",
    "        \n",
    "        gray = spectrogram.copy() #need gray scale for houglinesP detector \n",
    "        spectrogram = cv2.cvtColor(spectrogram, cv2.COLOR_GRAY2BGR) #color for plotting \n",
    "        \n",
    "        lines = cv2.HoughLinesP(gray,\n",
    "                                rho = 10,\n",
    "                                theta = np.deg2rad(1),   \n",
    "                                threshold = 100,\n",
    "                                minLineLength = 200,\n",
    "                                maxLineGap= 1)\n",
    "\n",
    "        if lines is None: #if we did not find lines\n",
    "            lines = []\n",
    "            length = 0\n",
    "            len_array = [0]\n",
    "        else:  \n",
    "            len_array = []\n",
    "            for i in lines[:][:][:]:\n",
    "                for x1,y1,x2,y2 in i:\n",
    "#                     cv2.line(spectrogram,(x1,y1),(x2,y2),(255, 0, 255),2) \n",
    "                    length = np.sqrt((y2-y1)**2+(x2-x1)**2) #dist formula\n",
    "                    len_array.append(length)\n",
    "                    #print i, length\n",
    "                    linear = True #for debugging\n",
    "        print class_  , linear\n",
    "        \n",
    "        if plot_ == True:\n",
    "            spectrogram = np.uint8(cv2.resize(spectrogram, (12000, 128)))\n",
    "            fig, ax = plt.subplots()\n",
    "            fig.set_size_inches(20, 20)\n",
    "            cmap = plt.cm.get_cmap(\"Blues\")\n",
    "            ax.imshow(spectrogram, aspect = 10)\n",
    "            plt.show()\n",
    "\n",
    "        data = np.vstack((data, [class_, linear]))  #for analysis   \n",
    "narr_res = pd.DataFrame(data=data, columns=['class', 'linear'], index=basic4list)"
   ]
  },
  {
   "cell_type": "code",
   "execution_count": null,
   "metadata": {
    "collapsed": true
   },
   "outputs": [],
   "source": [
    "d = pd.DataFrame(data)\n",
    "\n",
    "n = (d.loc[d[0] == 'narrowband'])\n",
    "nTP = (n.loc[n[1] == 'True'])\n",
    "narrow_TP = nTP.shape[0]\n",
    "\n",
    "nFP = (n.loc[n[1] == 'False'])\n",
    "narrow_FP = nFP.shape[0]\n",
    "\n",
    "nRD = (d.loc[d[0] == 'narrowbanddrd'])\n",
    "nRDFN = (nRD.loc[nRD[1] == 'True'])\n",
    "narrowrd_FN = nRDFN.shape[0]\n",
    "\n",
    "nRDTN = (nRD.loc[nRD[1] == 'False'])\n",
    "narrowrd_TN = nRDTN.shape[0]"
   ]
  },
  {
   "cell_type": "code",
   "execution_count": 455,
   "metadata": {},
   "outputs": [
    {
     "name": "stdout",
     "output_type": "stream",
     "text": [
      "true positives 20\n",
      "false negatives 13\n",
      "false positives 4\n",
      "true neg 24\n"
     ]
    }
   ],
   "source": [
    "print 'true positives', narrow_TP\n",
    "print 'false negatives', narrow_FP\n",
    "print 'false positives', narrowrd_FN\n",
    "print 'true neg', narrowrd_TN"
   ]
  },
  {
   "cell_type": "code",
   "execution_count": 456,
   "metadata": {},
   "outputs": [
    {
     "data": {
      "text/plain": [
       "0.7213114754098361"
      ]
     },
     "execution_count": 456,
     "metadata": {},
     "output_type": "execute_result"
    }
   ],
   "source": [
    "(20+24)/(44+17)"
   ]
  }
 ],
 "metadata": {
  "kernelspec": {
   "display_name": "Python 2",
   "language": "python",
   "name": "python2"
  },
  "language_info": {
   "codemirror_mode": {
    "name": "ipython",
    "version": 2
   },
   "file_extension": ".py",
   "mimetype": "text/x-python",
   "name": "python",
   "nbconvert_exporter": "python",
   "pygments_lexer": "ipython2",
   "version": "2.7.13"
  }
 },
 "nbformat": 4,
 "nbformat_minor": 2
}
